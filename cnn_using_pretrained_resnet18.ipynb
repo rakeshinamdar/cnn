{
  "nbformat": 4,
  "nbformat_minor": 0,
  "metadata": {
    "colab": {
      "name": "cnn_using_pretrained_resnet18.ipynb",
      "provenance": []
    },
    "kernelspec": {
      "name": "python3",
      "display_name": "Python 3"
    },
    "accelerator": "GPU",
    "widgets": {
      "application/vnd.jupyter.widget-state+json": {
        "a6258ffd5f4a47b393b7b1b943bc460d": {
          "model_module": "@jupyter-widgets/controls",
          "model_name": "HBoxModel",
          "state": {
            "_view_name": "HBoxView",
            "_dom_classes": [],
            "_model_name": "HBoxModel",
            "_view_module": "@jupyter-widgets/controls",
            "_model_module_version": "1.5.0",
            "_view_count": null,
            "_view_module_version": "1.5.0",
            "box_style": "",
            "layout": "IPY_MODEL_5cc2078fc31f4ed9aa1c495c10e07d9d",
            "_model_module": "@jupyter-widgets/controls",
            "children": [
              "IPY_MODEL_3eb3f482f19446a6b99533b26a403fb1",
              "IPY_MODEL_4a3be70cf773432a91e0cb162bc88c85"
            ]
          }
        },
        "5cc2078fc31f4ed9aa1c495c10e07d9d": {
          "model_module": "@jupyter-widgets/base",
          "model_name": "LayoutModel",
          "state": {
            "_view_name": "LayoutView",
            "grid_template_rows": null,
            "right": null,
            "justify_content": null,
            "_view_module": "@jupyter-widgets/base",
            "overflow": null,
            "_model_module_version": "1.2.0",
            "_view_count": null,
            "flex_flow": null,
            "width": null,
            "min_width": null,
            "border": null,
            "align_items": null,
            "bottom": null,
            "_model_module": "@jupyter-widgets/base",
            "top": null,
            "grid_column": null,
            "overflow_y": null,
            "overflow_x": null,
            "grid_auto_flow": null,
            "grid_area": null,
            "grid_template_columns": null,
            "flex": null,
            "_model_name": "LayoutModel",
            "justify_items": null,
            "grid_row": null,
            "max_height": null,
            "align_content": null,
            "visibility": null,
            "align_self": null,
            "height": null,
            "min_height": null,
            "padding": null,
            "grid_auto_rows": null,
            "grid_gap": null,
            "max_width": null,
            "order": null,
            "_view_module_version": "1.2.0",
            "grid_template_areas": null,
            "object_position": null,
            "object_fit": null,
            "grid_auto_columns": null,
            "margin": null,
            "display": null,
            "left": null
          }
        },
        "3eb3f482f19446a6b99533b26a403fb1": {
          "model_module": "@jupyter-widgets/controls",
          "model_name": "FloatProgressModel",
          "state": {
            "_view_name": "ProgressView",
            "style": "IPY_MODEL_7723f5a693d6479c8cfc1c3e29d6bede",
            "_dom_classes": [],
            "description": "",
            "_model_name": "FloatProgressModel",
            "bar_style": "info",
            "max": 1,
            "_view_module": "@jupyter-widgets/controls",
            "_model_module_version": "1.5.0",
            "value": 1,
            "_view_count": null,
            "_view_module_version": "1.5.0",
            "orientation": "horizontal",
            "min": 0,
            "description_tooltip": null,
            "_model_module": "@jupyter-widgets/controls",
            "layout": "IPY_MODEL_984dccffd9df4b40a40989c5316df4a9"
          }
        },
        "4a3be70cf773432a91e0cb162bc88c85": {
          "model_module": "@jupyter-widgets/controls",
          "model_name": "HTMLModel",
          "state": {
            "_view_name": "HTMLView",
            "style": "IPY_MODEL_7697d76919654d99ad4479df61053fe0",
            "_dom_classes": [],
            "description": "",
            "_model_name": "HTMLModel",
            "placeholder": "​",
            "_view_module": "@jupyter-widgets/controls",
            "_model_module_version": "1.5.0",
            "value": " 170500096/? [00:30&lt;00:00, 16908001.59it/s]",
            "_view_count": null,
            "_view_module_version": "1.5.0",
            "description_tooltip": null,
            "_model_module": "@jupyter-widgets/controls",
            "layout": "IPY_MODEL_085a1fcbb69e4edfa19c7d367024eb84"
          }
        },
        "7723f5a693d6479c8cfc1c3e29d6bede": {
          "model_module": "@jupyter-widgets/controls",
          "model_name": "ProgressStyleModel",
          "state": {
            "_view_name": "StyleView",
            "_model_name": "ProgressStyleModel",
            "description_width": "initial",
            "_view_module": "@jupyter-widgets/base",
            "_model_module_version": "1.5.0",
            "_view_count": null,
            "_view_module_version": "1.2.0",
            "bar_color": null,
            "_model_module": "@jupyter-widgets/controls"
          }
        },
        "984dccffd9df4b40a40989c5316df4a9": {
          "model_module": "@jupyter-widgets/base",
          "model_name": "LayoutModel",
          "state": {
            "_view_name": "LayoutView",
            "grid_template_rows": null,
            "right": null,
            "justify_content": null,
            "_view_module": "@jupyter-widgets/base",
            "overflow": null,
            "_model_module_version": "1.2.0",
            "_view_count": null,
            "flex_flow": null,
            "width": null,
            "min_width": null,
            "border": null,
            "align_items": null,
            "bottom": null,
            "_model_module": "@jupyter-widgets/base",
            "top": null,
            "grid_column": null,
            "overflow_y": null,
            "overflow_x": null,
            "grid_auto_flow": null,
            "grid_area": null,
            "grid_template_columns": null,
            "flex": null,
            "_model_name": "LayoutModel",
            "justify_items": null,
            "grid_row": null,
            "max_height": null,
            "align_content": null,
            "visibility": null,
            "align_self": null,
            "height": null,
            "min_height": null,
            "padding": null,
            "grid_auto_rows": null,
            "grid_gap": null,
            "max_width": null,
            "order": null,
            "_view_module_version": "1.2.0",
            "grid_template_areas": null,
            "object_position": null,
            "object_fit": null,
            "grid_auto_columns": null,
            "margin": null,
            "display": null,
            "left": null
          }
        },
        "7697d76919654d99ad4479df61053fe0": {
          "model_module": "@jupyter-widgets/controls",
          "model_name": "DescriptionStyleModel",
          "state": {
            "_view_name": "StyleView",
            "_model_name": "DescriptionStyleModel",
            "description_width": "",
            "_view_module": "@jupyter-widgets/base",
            "_model_module_version": "1.5.0",
            "_view_count": null,
            "_view_module_version": "1.2.0",
            "_model_module": "@jupyter-widgets/controls"
          }
        },
        "085a1fcbb69e4edfa19c7d367024eb84": {
          "model_module": "@jupyter-widgets/base",
          "model_name": "LayoutModel",
          "state": {
            "_view_name": "LayoutView",
            "grid_template_rows": null,
            "right": null,
            "justify_content": null,
            "_view_module": "@jupyter-widgets/base",
            "overflow": null,
            "_model_module_version": "1.2.0",
            "_view_count": null,
            "flex_flow": null,
            "width": null,
            "min_width": null,
            "border": null,
            "align_items": null,
            "bottom": null,
            "_model_module": "@jupyter-widgets/base",
            "top": null,
            "grid_column": null,
            "overflow_y": null,
            "overflow_x": null,
            "grid_auto_flow": null,
            "grid_area": null,
            "grid_template_columns": null,
            "flex": null,
            "_model_name": "LayoutModel",
            "justify_items": null,
            "grid_row": null,
            "max_height": null,
            "align_content": null,
            "visibility": null,
            "align_self": null,
            "height": null,
            "min_height": null,
            "padding": null,
            "grid_auto_rows": null,
            "grid_gap": null,
            "max_width": null,
            "order": null,
            "_view_module_version": "1.2.0",
            "grid_template_areas": null,
            "object_position": null,
            "object_fit": null,
            "grid_auto_columns": null,
            "margin": null,
            "display": null,
            "left": null
          }
        },
        "75abf15806f34fb998a4497b29c90981": {
          "model_module": "@jupyter-widgets/controls",
          "model_name": "HBoxModel",
          "state": {
            "_view_name": "HBoxView",
            "_dom_classes": [],
            "_model_name": "HBoxModel",
            "_view_module": "@jupyter-widgets/controls",
            "_model_module_version": "1.5.0",
            "_view_count": null,
            "_view_module_version": "1.5.0",
            "box_style": "",
            "layout": "IPY_MODEL_99f001137ad042c6970a3552c4bdf71d",
            "_model_module": "@jupyter-widgets/controls",
            "children": [
              "IPY_MODEL_b638b9681f734d72a57a6494e22053fd",
              "IPY_MODEL_97726e26f688415cb69c1b8cefd6a598"
            ]
          }
        },
        "99f001137ad042c6970a3552c4bdf71d": {
          "model_module": "@jupyter-widgets/base",
          "model_name": "LayoutModel",
          "state": {
            "_view_name": "LayoutView",
            "grid_template_rows": null,
            "right": null,
            "justify_content": null,
            "_view_module": "@jupyter-widgets/base",
            "overflow": null,
            "_model_module_version": "1.2.0",
            "_view_count": null,
            "flex_flow": null,
            "width": null,
            "min_width": null,
            "border": null,
            "align_items": null,
            "bottom": null,
            "_model_module": "@jupyter-widgets/base",
            "top": null,
            "grid_column": null,
            "overflow_y": null,
            "overflow_x": null,
            "grid_auto_flow": null,
            "grid_area": null,
            "grid_template_columns": null,
            "flex": null,
            "_model_name": "LayoutModel",
            "justify_items": null,
            "grid_row": null,
            "max_height": null,
            "align_content": null,
            "visibility": null,
            "align_self": null,
            "height": null,
            "min_height": null,
            "padding": null,
            "grid_auto_rows": null,
            "grid_gap": null,
            "max_width": null,
            "order": null,
            "_view_module_version": "1.2.0",
            "grid_template_areas": null,
            "object_position": null,
            "object_fit": null,
            "grid_auto_columns": null,
            "margin": null,
            "display": null,
            "left": null
          }
        },
        "b638b9681f734d72a57a6494e22053fd": {
          "model_module": "@jupyter-widgets/controls",
          "model_name": "FloatProgressModel",
          "state": {
            "_view_name": "ProgressView",
            "style": "IPY_MODEL_d22e9ff0b2e745788b3b64ae43ec0c7c",
            "_dom_classes": [],
            "description": "100%",
            "_model_name": "FloatProgressModel",
            "bar_style": "success",
            "max": 46827520,
            "_view_module": "@jupyter-widgets/controls",
            "_model_module_version": "1.5.0",
            "value": 46827520,
            "_view_count": null,
            "_view_module_version": "1.5.0",
            "orientation": "horizontal",
            "min": 0,
            "description_tooltip": null,
            "_model_module": "@jupyter-widgets/controls",
            "layout": "IPY_MODEL_5a49071f37bf45b38c69cabcf77e67a1"
          }
        },
        "97726e26f688415cb69c1b8cefd6a598": {
          "model_module": "@jupyter-widgets/controls",
          "model_name": "HTMLModel",
          "state": {
            "_view_name": "HTMLView",
            "style": "IPY_MODEL_97586d7139e6482298cac6a0de17e690",
            "_dom_classes": [],
            "description": "",
            "_model_name": "HTMLModel",
            "placeholder": "​",
            "_view_module": "@jupyter-widgets/controls",
            "_model_module_version": "1.5.0",
            "value": " 44.7M/44.7M [05:34&lt;00:00, 140kB/s]",
            "_view_count": null,
            "_view_module_version": "1.5.0",
            "description_tooltip": null,
            "_model_module": "@jupyter-widgets/controls",
            "layout": "IPY_MODEL_085663c9819340dc9f587138386093e1"
          }
        },
        "d22e9ff0b2e745788b3b64ae43ec0c7c": {
          "model_module": "@jupyter-widgets/controls",
          "model_name": "ProgressStyleModel",
          "state": {
            "_view_name": "StyleView",
            "_model_name": "ProgressStyleModel",
            "description_width": "initial",
            "_view_module": "@jupyter-widgets/base",
            "_model_module_version": "1.5.0",
            "_view_count": null,
            "_view_module_version": "1.2.0",
            "bar_color": null,
            "_model_module": "@jupyter-widgets/controls"
          }
        },
        "5a49071f37bf45b38c69cabcf77e67a1": {
          "model_module": "@jupyter-widgets/base",
          "model_name": "LayoutModel",
          "state": {
            "_view_name": "LayoutView",
            "grid_template_rows": null,
            "right": null,
            "justify_content": null,
            "_view_module": "@jupyter-widgets/base",
            "overflow": null,
            "_model_module_version": "1.2.0",
            "_view_count": null,
            "flex_flow": null,
            "width": null,
            "min_width": null,
            "border": null,
            "align_items": null,
            "bottom": null,
            "_model_module": "@jupyter-widgets/base",
            "top": null,
            "grid_column": null,
            "overflow_y": null,
            "overflow_x": null,
            "grid_auto_flow": null,
            "grid_area": null,
            "grid_template_columns": null,
            "flex": null,
            "_model_name": "LayoutModel",
            "justify_items": null,
            "grid_row": null,
            "max_height": null,
            "align_content": null,
            "visibility": null,
            "align_self": null,
            "height": null,
            "min_height": null,
            "padding": null,
            "grid_auto_rows": null,
            "grid_gap": null,
            "max_width": null,
            "order": null,
            "_view_module_version": "1.2.0",
            "grid_template_areas": null,
            "object_position": null,
            "object_fit": null,
            "grid_auto_columns": null,
            "margin": null,
            "display": null,
            "left": null
          }
        },
        "97586d7139e6482298cac6a0de17e690": {
          "model_module": "@jupyter-widgets/controls",
          "model_name": "DescriptionStyleModel",
          "state": {
            "_view_name": "StyleView",
            "_model_name": "DescriptionStyleModel",
            "description_width": "",
            "_view_module": "@jupyter-widgets/base",
            "_model_module_version": "1.5.0",
            "_view_count": null,
            "_view_module_version": "1.2.0",
            "_model_module": "@jupyter-widgets/controls"
          }
        },
        "085663c9819340dc9f587138386093e1": {
          "model_module": "@jupyter-widgets/base",
          "model_name": "LayoutModel",
          "state": {
            "_view_name": "LayoutView",
            "grid_template_rows": null,
            "right": null,
            "justify_content": null,
            "_view_module": "@jupyter-widgets/base",
            "overflow": null,
            "_model_module_version": "1.2.0",
            "_view_count": null,
            "flex_flow": null,
            "width": null,
            "min_width": null,
            "border": null,
            "align_items": null,
            "bottom": null,
            "_model_module": "@jupyter-widgets/base",
            "top": null,
            "grid_column": null,
            "overflow_y": null,
            "overflow_x": null,
            "grid_auto_flow": null,
            "grid_area": null,
            "grid_template_columns": null,
            "flex": null,
            "_model_name": "LayoutModel",
            "justify_items": null,
            "grid_row": null,
            "max_height": null,
            "align_content": null,
            "visibility": null,
            "align_self": null,
            "height": null,
            "min_height": null,
            "padding": null,
            "grid_auto_rows": null,
            "grid_gap": null,
            "max_width": null,
            "order": null,
            "_view_module_version": "1.2.0",
            "grid_template_areas": null,
            "object_position": null,
            "object_fit": null,
            "grid_auto_columns": null,
            "margin": null,
            "display": null,
            "left": null
          }
        }
      }
    }
  },
  "cells": [
    {
      "cell_type": "code",
      "metadata": {
        "id": "PAMMOM-WcbJT",
        "colab_type": "code",
        "colab": {}
      },
      "source": [
        "# resnet is based on - paper - deep residual learning for image recognition"
      ],
      "execution_count": null,
      "outputs": []
    },
    {
      "cell_type": "code",
      "metadata": {
        "id": "3dov1PIidqy_",
        "colab_type": "code",
        "colab": {}
      },
      "source": [
        "import matplotlib.pyplot as plt\n",
        "import numpy as np\n",
        "import torch\n",
        "import torchvision\n",
        "import torchvision.transforms as transforms\n",
        "import torch.nn as nn\n",
        "import torch.optim as optim\n",
        "import copy"
      ],
      "execution_count": 20,
      "outputs": []
    },
    {
      "cell_type": "code",
      "metadata": {
        "id": "dhK0aO5bduJh",
        "colab_type": "code",
        "colab": {
          "base_uri": "https://localhost:8080/",
          "height": 35
        },
        "outputId": "81872113-b407-4281-d743-fcc3f66d581e"
      },
      "source": [
        "# to find out whether there is actuall GPU or not in this particular instance\n",
        "device = torch.device(\"cuda:0\" if torch.cuda.is_available() else \"cpu\")\n",
        "print(device)"
      ],
      "execution_count": 2,
      "outputs": [
        {
          "output_type": "stream",
          "text": [
            "cuda:0\n"
          ],
          "name": "stdout"
        }
      ]
    },
    {
      "cell_type": "code",
      "metadata": {
        "id": "XzQZJnp7eHeg",
        "colab_type": "code",
        "colab": {}
      },
      "source": [
        "# Dataset, transform and visualization\n",
        "# declare transform_train, transform_test objects\n",
        "transform_train = transforms.Compose([transforms.RandomResizedCrop(224),\n",
        "                                      transforms.ToTensor(),\n",
        "                                      transforms.Normalize((0.5,0.5,0.5),(0.5,0.5,0.5))])\n",
        "\n",
        "transform_test = transforms.Compose([transforms.RandomResizedCrop(224),\n",
        "                                      transforms.ToTensor(),\n",
        "                                      transforms.Normalize((0.5,0.5,0.5),(0.5,0.5,0.5))])"
      ],
      "execution_count": 3,
      "outputs": []
    },
    {
      "cell_type": "code",
      "metadata": {
        "id": "7Zo1NwEVeSGu",
        "colab_type": "code",
        "colab": {
          "base_uri": "https://localhost:8080/",
          "height": 84,
          "referenced_widgets": [
            "a6258ffd5f4a47b393b7b1b943bc460d",
            "5cc2078fc31f4ed9aa1c495c10e07d9d",
            "3eb3f482f19446a6b99533b26a403fb1",
            "4a3be70cf773432a91e0cb162bc88c85",
            "7723f5a693d6479c8cfc1c3e29d6bede",
            "984dccffd9df4b40a40989c5316df4a9",
            "7697d76919654d99ad4479df61053fe0",
            "085a1fcbb69e4edfa19c7d367024eb84"
          ]
        },
        "outputId": "f33fe372-504f-4999-a62a-28a45c037f20"
      },
      "source": [
        "# create the train dataset and transform\n",
        "# CIFAR10 dataset has 32 X 32 images\n",
        "trainset = torchvision.datasets.CIFAR10(root='./data',\n",
        "                                        train=True,\n",
        "                                        download=True,\n",
        "                                        transform = transform_train)"
      ],
      "execution_count": 4,
      "outputs": [
        {
          "output_type": "stream",
          "text": [
            "Downloading https://www.cs.toronto.edu/~kriz/cifar-10-python.tar.gz to ./data/cifar-10-python.tar.gz\n"
          ],
          "name": "stdout"
        },
        {
          "output_type": "display_data",
          "data": {
            "application/vnd.jupyter.widget-view+json": {
              "model_id": "a6258ffd5f4a47b393b7b1b943bc460d",
              "version_minor": 0,
              "version_major": 2
            },
            "text/plain": [
              "HBox(children=(FloatProgress(value=1.0, bar_style='info', max=1.0), HTML(value='')))"
            ]
          },
          "metadata": {
            "tags": []
          }
        },
        {
          "output_type": "stream",
          "text": [
            "Extracting ./data/cifar-10-python.tar.gz to ./data\n"
          ],
          "name": "stdout"
        }
      ]
    },
    {
      "cell_type": "code",
      "metadata": {
        "id": "Nt19vU22ekvD",
        "colab_type": "code",
        "colab": {
          "base_uri": "https://localhost:8080/",
          "height": 35
        },
        "outputId": "87513256-9858-4bf6-a35f-836f3968cb22"
      },
      "source": [
        "# create the test dataset and transform\n",
        "testset = torchvision.datasets.CIFAR10(root='./data',\n",
        "                                       train=False,\n",
        "                                       download=True,\n",
        "                                       transform=transform_test)"
      ],
      "execution_count": 5,
      "outputs": [
        {
          "output_type": "stream",
          "text": [
            "Files already downloaded and verified\n"
          ],
          "name": "stdout"
        }
      ]
    },
    {
      "cell_type": "code",
      "metadata": {
        "id": "IwstmoEye6G-",
        "colab_type": "code",
        "colab": {}
      },
      "source": [
        "# https://pytorch.org/docs/stable/torchvision/models.html\n",
        "from torchvision import models"
      ],
      "execution_count": 7,
      "outputs": []
    },
    {
      "cell_type": "code",
      "metadata": {
        "id": "eoVKk-QZfGLI",
        "colab_type": "code",
        "colab": {
          "base_uri": "https://localhost:8080/",
          "height": 84,
          "referenced_widgets": [
            "75abf15806f34fb998a4497b29c90981",
            "99f001137ad042c6970a3552c4bdf71d",
            "b638b9681f734d72a57a6494e22053fd",
            "97726e26f688415cb69c1b8cefd6a598",
            "d22e9ff0b2e745788b3b64ae43ec0c7c",
            "5a49071f37bf45b38c69cabcf77e67a1",
            "97586d7139e6482298cac6a0de17e690",
            "085663c9819340dc9f587138386093e1"
          ]
        },
        "outputId": "d297d97d-a3ed-40cb-fd56-b15aec80285d"
      },
      "source": [
        "resnet = models.resnet18(pretrained=True)"
      ],
      "execution_count": 8,
      "outputs": [
        {
          "output_type": "stream",
          "text": [
            "Downloading: \"https://download.pytorch.org/models/resnet18-5c106cde.pth\" to /root/.cache/torch/hub/checkpoints/resnet18-5c106cde.pth\n"
          ],
          "name": "stderr"
        },
        {
          "output_type": "display_data",
          "data": {
            "application/vnd.jupyter.widget-view+json": {
              "model_id": "75abf15806f34fb998a4497b29c90981",
              "version_minor": 0,
              "version_major": 2
            },
            "text/plain": [
              "HBox(children=(FloatProgress(value=0.0, max=46827520.0), HTML(value='')))"
            ]
          },
          "metadata": {
            "tags": []
          }
        },
        {
          "output_type": "stream",
          "text": [
            "\n"
          ],
          "name": "stdout"
        }
      ]
    },
    {
      "cell_type": "code",
      "metadata": {
        "id": "4I-i65ltfY94",
        "colab_type": "code",
        "colab": {
          "base_uri": "https://localhost:8080/",
          "height": 1000
        },
        "outputId": "3ed13168-3d7a-4d6f-bde6-478bd1d890f8"
      },
      "source": [
        "print(resnet)"
      ],
      "execution_count": 9,
      "outputs": [
        {
          "output_type": "stream",
          "text": [
            "ResNet(\n",
            "  (conv1): Conv2d(3, 64, kernel_size=(7, 7), stride=(2, 2), padding=(3, 3), bias=False)\n",
            "  (bn1): BatchNorm2d(64, eps=1e-05, momentum=0.1, affine=True, track_running_stats=True)\n",
            "  (relu): ReLU(inplace=True)\n",
            "  (maxpool): MaxPool2d(kernel_size=3, stride=2, padding=1, dilation=1, ceil_mode=False)\n",
            "  (layer1): Sequential(\n",
            "    (0): BasicBlock(\n",
            "      (conv1): Conv2d(64, 64, kernel_size=(3, 3), stride=(1, 1), padding=(1, 1), bias=False)\n",
            "      (bn1): BatchNorm2d(64, eps=1e-05, momentum=0.1, affine=True, track_running_stats=True)\n",
            "      (relu): ReLU(inplace=True)\n",
            "      (conv2): Conv2d(64, 64, kernel_size=(3, 3), stride=(1, 1), padding=(1, 1), bias=False)\n",
            "      (bn2): BatchNorm2d(64, eps=1e-05, momentum=0.1, affine=True, track_running_stats=True)\n",
            "    )\n",
            "    (1): BasicBlock(\n",
            "      (conv1): Conv2d(64, 64, kernel_size=(3, 3), stride=(1, 1), padding=(1, 1), bias=False)\n",
            "      (bn1): BatchNorm2d(64, eps=1e-05, momentum=0.1, affine=True, track_running_stats=True)\n",
            "      (relu): ReLU(inplace=True)\n",
            "      (conv2): Conv2d(64, 64, kernel_size=(3, 3), stride=(1, 1), padding=(1, 1), bias=False)\n",
            "      (bn2): BatchNorm2d(64, eps=1e-05, momentum=0.1, affine=True, track_running_stats=True)\n",
            "    )\n",
            "  )\n",
            "  (layer2): Sequential(\n",
            "    (0): BasicBlock(\n",
            "      (conv1): Conv2d(64, 128, kernel_size=(3, 3), stride=(2, 2), padding=(1, 1), bias=False)\n",
            "      (bn1): BatchNorm2d(128, eps=1e-05, momentum=0.1, affine=True, track_running_stats=True)\n",
            "      (relu): ReLU(inplace=True)\n",
            "      (conv2): Conv2d(128, 128, kernel_size=(3, 3), stride=(1, 1), padding=(1, 1), bias=False)\n",
            "      (bn2): BatchNorm2d(128, eps=1e-05, momentum=0.1, affine=True, track_running_stats=True)\n",
            "      (downsample): Sequential(\n",
            "        (0): Conv2d(64, 128, kernel_size=(1, 1), stride=(2, 2), bias=False)\n",
            "        (1): BatchNorm2d(128, eps=1e-05, momentum=0.1, affine=True, track_running_stats=True)\n",
            "      )\n",
            "    )\n",
            "    (1): BasicBlock(\n",
            "      (conv1): Conv2d(128, 128, kernel_size=(3, 3), stride=(1, 1), padding=(1, 1), bias=False)\n",
            "      (bn1): BatchNorm2d(128, eps=1e-05, momentum=0.1, affine=True, track_running_stats=True)\n",
            "      (relu): ReLU(inplace=True)\n",
            "      (conv2): Conv2d(128, 128, kernel_size=(3, 3), stride=(1, 1), padding=(1, 1), bias=False)\n",
            "      (bn2): BatchNorm2d(128, eps=1e-05, momentum=0.1, affine=True, track_running_stats=True)\n",
            "    )\n",
            "  )\n",
            "  (layer3): Sequential(\n",
            "    (0): BasicBlock(\n",
            "      (conv1): Conv2d(128, 256, kernel_size=(3, 3), stride=(2, 2), padding=(1, 1), bias=False)\n",
            "      (bn1): BatchNorm2d(256, eps=1e-05, momentum=0.1, affine=True, track_running_stats=True)\n",
            "      (relu): ReLU(inplace=True)\n",
            "      (conv2): Conv2d(256, 256, kernel_size=(3, 3), stride=(1, 1), padding=(1, 1), bias=False)\n",
            "      (bn2): BatchNorm2d(256, eps=1e-05, momentum=0.1, affine=True, track_running_stats=True)\n",
            "      (downsample): Sequential(\n",
            "        (0): Conv2d(128, 256, kernel_size=(1, 1), stride=(2, 2), bias=False)\n",
            "        (1): BatchNorm2d(256, eps=1e-05, momentum=0.1, affine=True, track_running_stats=True)\n",
            "      )\n",
            "    )\n",
            "    (1): BasicBlock(\n",
            "      (conv1): Conv2d(256, 256, kernel_size=(3, 3), stride=(1, 1), padding=(1, 1), bias=False)\n",
            "      (bn1): BatchNorm2d(256, eps=1e-05, momentum=0.1, affine=True, track_running_stats=True)\n",
            "      (relu): ReLU(inplace=True)\n",
            "      (conv2): Conv2d(256, 256, kernel_size=(3, 3), stride=(1, 1), padding=(1, 1), bias=False)\n",
            "      (bn2): BatchNorm2d(256, eps=1e-05, momentum=0.1, affine=True, track_running_stats=True)\n",
            "    )\n",
            "  )\n",
            "  (layer4): Sequential(\n",
            "    (0): BasicBlock(\n",
            "      (conv1): Conv2d(256, 512, kernel_size=(3, 3), stride=(2, 2), padding=(1, 1), bias=False)\n",
            "      (bn1): BatchNorm2d(512, eps=1e-05, momentum=0.1, affine=True, track_running_stats=True)\n",
            "      (relu): ReLU(inplace=True)\n",
            "      (conv2): Conv2d(512, 512, kernel_size=(3, 3), stride=(1, 1), padding=(1, 1), bias=False)\n",
            "      (bn2): BatchNorm2d(512, eps=1e-05, momentum=0.1, affine=True, track_running_stats=True)\n",
            "      (downsample): Sequential(\n",
            "        (0): Conv2d(256, 512, kernel_size=(1, 1), stride=(2, 2), bias=False)\n",
            "        (1): BatchNorm2d(512, eps=1e-05, momentum=0.1, affine=True, track_running_stats=True)\n",
            "      )\n",
            "    )\n",
            "    (1): BasicBlock(\n",
            "      (conv1): Conv2d(512, 512, kernel_size=(3, 3), stride=(1, 1), padding=(1, 1), bias=False)\n",
            "      (bn1): BatchNorm2d(512, eps=1e-05, momentum=0.1, affine=True, track_running_stats=True)\n",
            "      (relu): ReLU(inplace=True)\n",
            "      (conv2): Conv2d(512, 512, kernel_size=(3, 3), stride=(1, 1), padding=(1, 1), bias=False)\n",
            "      (bn2): BatchNorm2d(512, eps=1e-05, momentum=0.1, affine=True, track_running_stats=True)\n",
            "    )\n",
            "  )\n",
            "  (avgpool): AdaptiveAvgPool2d(output_size=(1, 1))\n",
            "  (fc): Linear(in_features=512, out_features=1000, bias=True)\n",
            ")\n"
          ],
          "name": "stdout"
        }
      ]
    },
    {
      "cell_type": "code",
      "metadata": {
        "id": "shs5pZlIgmMh",
        "colab_type": "code",
        "colab": {}
      },
      "source": [
        "# set the requires_grad attribute of each parameter as false\n",
        "# if i am doing back propogation, dont go and update certain weight or bias\n",
        "for param in resnet.parameters():\n",
        "  param.requires_grad = False"
      ],
      "execution_count": 10,
      "outputs": []
    },
    {
      "cell_type": "code",
      "metadata": {
        "id": "-i5kvOYThJTt",
        "colab_type": "code",
        "colab": {}
      },
      "source": [
        "in_features = resnet.fc.in_features\n",
        "resnet.fc = nn.Linear(in_features,num_classes)"
      ],
      "execution_count": 11,
      "outputs": []
    },
    {
      "cell_type": "code",
      "metadata": {
        "id": "XJ8LghzhhqEH",
        "colab_type": "code",
        "colab": {
          "base_uri": "https://localhost:8080/",
          "height": 52
        },
        "outputId": "fee85983-2192-47f6-ea26-6924d2305c2a"
      },
      "source": [
        "for param in resnet.parameters():\n",
        "  if param.requires_grad:\n",
        "    print(param.shape)"
      ],
      "execution_count": 13,
      "outputs": [
        {
          "output_type": "stream",
          "text": [
            "torch.Size([10, 512])\n",
            "torch.Size([10])\n"
          ],
          "name": "stdout"
        }
      ]
    },
    {
      "cell_type": "code",
      "metadata": {
        "id": "UML-jg6Witiw",
        "colab_type": "code",
        "colab": {}
      },
      "source": [
        "resnet = resnet.to(device)\n",
        "loss_fn = nn.CrossEntropyLoss()\n",
        "opt = optim.SGD(resnet.parameters(),lr=0.05)"
      ],
      "execution_count": 14,
      "outputs": []
    },
    {
      "cell_type": "code",
      "metadata": {
        "id": "GJS-2-4kjJ8D",
        "colab_type": "code",
        "colab": {}
      },
      "source": [
        "num_classes = 10\n",
        "batch_size = 16\n",
        "trainloader = torch.utils.data.DataLoader(trainset,batch_size=batch_size,shuffle=True)\n",
        "testloader = torch.utils.data.DataLoader(testset,batch_size=batch_size,shuffle=False)"
      ],
      "execution_count": 18,
      "outputs": []
    },
    {
      "cell_type": "code",
      "metadata": {
        "id": "DgRItK5zkBkf",
        "colab_type": "code",
        "colab": {}
      },
      "source": [
        "def evaluation(dataloader,model):\n",
        "  total, correct = 0,0\n",
        "  for data in dataloader:\n",
        "    inputs, labels = data\n",
        "    inputs, labels = inputs.to(device), labels.to(device)\n",
        "    outputs = model(inputs)\n",
        "    _,pred = torch.max(outputs.data,1)\n",
        "    total += labels.size(0)\n",
        "    correct += (pred == labels).sum().item()\n",
        "    return 100*correct/total"
      ],
      "execution_count": 17,
      "outputs": []
    },
    {
      "cell_type": "code",
      "metadata": {
        "id": "LlU_EZjijCVv",
        "colab_type": "code",
        "colab": {
          "base_uri": "https://localhost:8080/",
          "height": 1000
        },
        "outputId": "38954df9-86aa-43bc-b63c-ede4a809a25e"
      },
      "source": [
        "loss_epoch_arr = []\n",
        "max_epochs = 4\n",
        "\n",
        "min_loss = 1000\n",
        "\n",
        "n_iters = np.ceil(50000/batch_size)\n",
        "\n",
        "for epoch in range(max_epochs):\n",
        "\n",
        "  for i, data in enumerate(trainloader,0):\n",
        "\n",
        "    inputs, labels = data\n",
        "    inputs, labels = inputs.to(device), labels.to(device)\n",
        "\n",
        "    opt.zero_grad()\n",
        "\n",
        "    outputs = resnet(inputs)\n",
        "    loss = loss_fn(outputs,labels)\n",
        "    loss.backward()\n",
        "    opt.step()\n",
        "\n",
        "    if min_loss > loss.item():\n",
        "      min_loss = loss.item()\n",
        "      best_model = copy.deepcopy(resnet.state_dict())\n",
        "      print('min loss %0.2f ' % min_loss)\n",
        "\n",
        "    del inputs, labels, outputs\n",
        "    torch.cuda.empty_cache()\n",
        "\n",
        "    if i%100 == 0:\n",
        "      print('Iteration: %d/%d, Loss: %0.2f' %(i, n_iters, loss.item()))\n",
        "\n",
        "  loss_epoch_arr.append(loss.item())\n",
        "\n",
        "  print('Epoch: %d/%d, Test acc: %0.2f, Train acc: %0.2f' % (\n",
        "      epoch, max_epochs,\n",
        "      evaluation(testloader,resnet),\n",
        "      evaluation(trainloader,resnet)\n",
        "  ))\n",
        "\n",
        "  plt.plot(loss_epoch_arr)\n",
        "  plt.show()"
      ],
      "execution_count": 23,
      "outputs": [
        {
          "output_type": "stream",
          "text": [
            "min loss 2.02 \n",
            "Iteration: 0/3125, Loss: 2.02\n",
            "min loss 1.97 \n",
            "min loss 1.61 \n",
            "min loss 0.57 \n",
            "Iteration: 100/3125, Loss: 2.17\n",
            "Iteration: 200/3125, Loss: 2.29\n",
            "Iteration: 300/3125, Loss: 1.30\n",
            "min loss 0.50 \n",
            "min loss 0.25 \n",
            "Iteration: 400/3125, Loss: 2.88\n",
            "Iteration: 500/3125, Loss: 2.45\n",
            "Iteration: 600/3125, Loss: 1.48\n",
            "Iteration: 700/3125, Loss: 2.00\n",
            "Iteration: 800/3125, Loss: 1.36\n",
            "Iteration: 900/3125, Loss: 2.56\n",
            "Iteration: 1000/3125, Loss: 2.43\n",
            "Iteration: 1100/3125, Loss: 2.45\n",
            "Iteration: 1200/3125, Loss: 1.33\n",
            "Iteration: 1300/3125, Loss: 2.57\n",
            "Iteration: 1400/3125, Loss: 2.46\n",
            "Iteration: 1500/3125, Loss: 1.57\n",
            "Iteration: 1600/3125, Loss: 1.86\n",
            "Iteration: 1700/3125, Loss: 1.42\n",
            "Iteration: 1800/3125, Loss: 1.42\n",
            "Iteration: 1900/3125, Loss: 0.71\n",
            "Iteration: 2000/3125, Loss: 1.49\n",
            "Iteration: 2100/3125, Loss: 1.92\n",
            "Iteration: 2200/3125, Loss: 1.47\n",
            "Iteration: 2300/3125, Loss: 1.55\n",
            "Iteration: 2400/3125, Loss: 2.15\n",
            "Iteration: 2500/3125, Loss: 1.61\n",
            "Iteration: 2600/3125, Loss: 1.48\n",
            "Iteration: 2700/3125, Loss: 1.32\n",
            "Iteration: 2800/3125, Loss: 1.83\n",
            "Iteration: 2900/3125, Loss: 1.59\n",
            "Iteration: 3000/3125, Loss: 0.54\n",
            "Iteration: 3100/3125, Loss: 1.93\n",
            "Epoch: 0/4, Test acc: 43.75, Train acc: 56.25\n"
          ],
          "name": "stdout"
        },
        {
          "output_type": "display_data",
          "data": {
            "image/png": "[encoded data removed]",
            "text/plain": [
              "<Figure size 432x288 with 1 Axes>"
            ]
          },
          "metadata": {
            "tags": [],
            "needs_background": "light"
          }
        },
        {
          "output_type": "stream",
          "text": [
            "Iteration: 0/3125, Loss: 1.63\n",
            "Iteration: 100/3125, Loss: 2.68\n",
            "Iteration: 200/3125, Loss: 2.30\n",
            "Iteration: 300/3125, Loss: 1.91\n",
            "Iteration: 400/3125, Loss: 1.83\n",
            "Iteration: 500/3125, Loss: 1.68\n",
            "Iteration: 600/3125, Loss: 2.30\n",
            "Iteration: 700/3125, Loss: 3.35\n",
            "Iteration: 800/3125, Loss: 1.63\n",
            "Iteration: 900/3125, Loss: 1.74\n",
            "Iteration: 1000/3125, Loss: 2.47\n",
            "Iteration: 1100/3125, Loss: 1.53\n",
            "Iteration: 1200/3125, Loss: 1.79\n",
            "Iteration: 1300/3125, Loss: 2.61\n",
            "Iteration: 1400/3125, Loss: 1.74\n",
            "Iteration: 1500/3125, Loss: 2.81\n",
            "Iteration: 1600/3125, Loss: 1.39\n",
            "Iteration: 1700/3125, Loss: 0.80\n",
            "Iteration: 1800/3125, Loss: 1.94\n",
            "Iteration: 1900/3125, Loss: 1.28\n",
            "Iteration: 2000/3125, Loss: 1.74\n",
            "Iteration: 2100/3125, Loss: 1.69\n",
            "Iteration: 2200/3125, Loss: 1.69\n",
            "Iteration: 2300/3125, Loss: 1.71\n",
            "Iteration: 2400/3125, Loss: 1.82\n",
            "Iteration: 2500/3125, Loss: 1.47\n",
            "Iteration: 2600/3125, Loss: 1.45\n",
            "Iteration: 2700/3125, Loss: 2.17\n",
            "Iteration: 2800/3125, Loss: 3.58\n",
            "Iteration: 2900/3125, Loss: 1.00\n",
            "Iteration: 3000/3125, Loss: 1.32\n",
            "Iteration: 3100/3125, Loss: 1.05\n",
            "Epoch: 1/4, Test acc: 43.75, Train acc: 18.75\n"
          ],
          "name": "stdout"
        },
        {
          "output_type": "display_data",
          "data": {
            "image/png": "[encoded data removed]",
            "text/plain": [
              "<Figure size 432x288 with 1 Axes>"
            ]
          },
          "metadata": {
            "tags": [],
            "needs_background": "light"
          }
        },
        {
          "output_type": "stream",
          "text": [
            "Iteration: 0/3125, Loss: 1.43\n",
            "Iteration: 100/3125, Loss: 0.93\n",
            "Iteration: 200/3125, Loss: 1.45\n",
            "Iteration: 300/3125, Loss: 1.67\n",
            "Iteration: 400/3125, Loss: 1.68\n",
            "Iteration: 500/3125, Loss: 1.60\n",
            "Iteration: 600/3125, Loss: 3.32\n",
            "Iteration: 700/3125, Loss: 2.34\n",
            "Iteration: 800/3125, Loss: 1.20\n",
            "Iteration: 900/3125, Loss: 1.12\n",
            "Iteration: 1000/3125, Loss: 1.82\n",
            "Iteration: 1100/3125, Loss: 1.64\n",
            "Iteration: 1200/3125, Loss: 1.52\n",
            "Iteration: 1300/3125, Loss: 1.63\n",
            "Iteration: 1400/3125, Loss: 1.79\n",
            "Iteration: 1500/3125, Loss: 1.90\n",
            "Iteration: 1600/3125, Loss: 1.76\n",
            "Iteration: 1700/3125, Loss: 1.79\n",
            "Iteration: 1800/3125, Loss: 3.90\n",
            "Iteration: 1900/3125, Loss: 1.78\n",
            "Iteration: 2000/3125, Loss: 1.15\n",
            "Iteration: 2100/3125, Loss: 1.92\n",
            "Iteration: 2200/3125, Loss: 2.53\n",
            "Iteration: 2300/3125, Loss: 1.74\n",
            "Iteration: 2400/3125, Loss: 1.74\n",
            "min loss 0.23 \n",
            "Iteration: 2500/3125, Loss: 2.15\n",
            "Iteration: 2600/3125, Loss: 2.27\n",
            "Iteration: 2700/3125, Loss: 2.33\n",
            "Iteration: 2800/3125, Loss: 1.23\n",
            "Iteration: 2900/3125, Loss: 1.61\n",
            "Iteration: 3000/3125, Loss: 2.00\n",
            "Iteration: 3100/3125, Loss: 1.15\n",
            "Epoch: 2/4, Test acc: 50.00, Train acc: 62.50\n"
          ],
          "name": "stdout"
        },
        {
          "output_type": "display_data",
          "data": {
            "image/png": "[encoded data removed]",
            "text/plain": [
              "<Figure size 432x288 with 1 Axes>"
            ]
          },
          "metadata": {
            "tags": [],
            "needs_background": "light"
          }
        },
        {
          "output_type": "stream",
          "text": [
            "Iteration: 0/3125, Loss: 2.07\n",
            "Iteration: 100/3125, Loss: 2.43\n",
            "Iteration: 200/3125, Loss: 1.02\n",
            "Iteration: 300/3125, Loss: 1.77\n",
            "Iteration: 400/3125, Loss: 2.71\n",
            "Iteration: 500/3125, Loss: 2.34\n",
            "Iteration: 600/3125, Loss: 1.33\n",
            "Iteration: 700/3125, Loss: 1.98\n",
            "Iteration: 800/3125, Loss: 2.14\n",
            "Iteration: 900/3125, Loss: 1.13\n",
            "Iteration: 1000/3125, Loss: 1.92\n",
            "Iteration: 1100/3125, Loss: 1.99\n",
            "Iteration: 1200/3125, Loss: 2.22\n",
            "Iteration: 1300/3125, Loss: 2.02\n",
            "Iteration: 1400/3125, Loss: 1.07\n",
            "Iteration: 1500/3125, Loss: 2.32\n",
            "Iteration: 1600/3125, Loss: 2.01\n",
            "Iteration: 1700/3125, Loss: 1.97\n",
            "Iteration: 1800/3125, Loss: 1.19\n",
            "Iteration: 1900/3125, Loss: 1.57\n",
            "Iteration: 2000/3125, Loss: 1.94\n",
            "Iteration: 2100/3125, Loss: 1.13\n",
            "Iteration: 2200/3125, Loss: 2.21\n",
            "Iteration: 2300/3125, Loss: 1.89\n",
            "Iteration: 2400/3125, Loss: 1.99\n",
            "Iteration: 2500/3125, Loss: 2.63\n",
            "Iteration: 2600/3125, Loss: 1.93\n",
            "Iteration: 2700/3125, Loss: 1.82\n",
            "Iteration: 2800/3125, Loss: 1.33\n",
            "Iteration: 2900/3125, Loss: 2.00\n",
            "Iteration: 3000/3125, Loss: 1.12\n",
            "Iteration: 3100/3125, Loss: 2.09\n",
            "Epoch: 3/4, Test acc: 56.25, Train acc: 50.00\n"
          ],
          "name": "stdout"
        },
        {
          "output_type": "display_data",
          "data": {
            "image/png": "[encoded data removed]",
            "text/plain": [
              "<Figure size 432x288 with 1 Axes>"
            ]
          },
          "metadata": {
            "tags": [],
            "needs_background": "light"
          }
        }
      ]
    },
    {
      "cell_type": "code",
      "metadata": {
        "id": "ctzTibz_esyr",
        "colab_type": "code",
        "colab": {
          "base_uri": "https://localhost:8080/",
          "height": 35
        },
        "outputId": "9e1c6b41-90f3-437d-d934-975f7d39d206"
      },
      "source": [
        "# the network will import the weights of all parameters as per the best_model\n",
        "resnet.load_state_dict(best_model)\n",
        "print(evaluation(testloader,resnet), evaluation(trainloader,resnet))"
      ],
      "execution_count": 24,
      "outputs": [
        {
          "output_type": "stream",
          "text": [
            "56.25 56.25\n"
          ],
          "name": "stdout"
        }
      ]
    }
  ]
}